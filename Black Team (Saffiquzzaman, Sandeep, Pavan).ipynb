{
 "cells": [
  {
   "cell_type": "markdown",
   "id": "e319ad2c",
   "metadata": {},
   "source": [
    "<h2>Project (Black Team: Writing a Jupyter Notebook based Python Model\n",
    "presented in the paper by Carlsson and Zambrano (2014); explaining the model, reproducing the results from the paper</h2>"
   ]
  },
  {
   "cell_type": "markdown",
   "id": "7c432f11",
   "metadata": {},
   "source": [
    "<h3>Main Points of Research Paper:\n",
    "\n",
    "a. Consider a simple (only one limiting substrate and one type of biomass) continuous stirred tank reactor (CSTR) having at least two bioreactors in series and a growth kinetics of the biomass described by a Monod function and Contois function.\n",
    "    \n",
    "b. In Monod function the effluent steady state concentration of substrate decreases when the influent concentration of substrate increases. This behaviour is very different from the classical one bioreactor case, where the effluent steady state substrate\n",
    "concentration is independent of the influent substrate concentration.\n",
    "    \n",
    "c. In Contois function the effluent substrate concentration (in steady state) is proportional to the influent substrate concentration.\n",
    "    \n",
    "d. The implication of the above results for an ASP is outlined in a companion paper Zambrano and Carlsson (2014) where it numerically is shown that for a simple ASP process described by two bioreactors in series the same behaviour is obtained.\n",
    "</h3>\n"
   ]
  },
  {
   "cell_type": "markdown",
   "id": "a44fce54",
   "metadata": {},
   "source": [
    "<h3>Now, through the paper, \n",
    "    \n",
    "dX/dt = [µ(S,X) - Q/V]X + Q/V * Xin    \n",
    "dS/dt = -µ(S,X)/Y * X + Q/V(Sin - S)</h3>"
   ]
  },
  {
   "cell_type": "markdown",
   "id": "1b51de4c",
   "metadata": {},
   "source": []
  },
  {
   "cell_type": "markdown",
   "id": "e6af4d0d",
   "metadata": {},
   "source": [
    "<h4>where S and X are the substrate and biomass concentration in the bioreactor, respectively.\n",
    "The influent volumetric flow rate is equal to the effluent flow rate Q.\n",
    "Sin and Xin are the influent substrate and biomass concentration, respectively. V is the\n",
    "bioreactor volume, Y is the yield factor and µ(S,X) is the specific growth rate.</h4>"
   ]
  },
  {
   "cell_type": "markdown",
   "id": "62bec038",
   "metadata": {},
   "source": [
    "# 1 CSTR"
   ]
  },
  {
   "cell_type": "code",
   "execution_count": 6,
   "id": "99a7dd77",
   "metadata": {},
   "outputs": [],
   "source": [
    "%matplotlib inline\n",
    "\n",
    "# Libraries\n",
    "\n",
    "import numpy as np    # bringing the NumPy library into current environment\n",
    "import matplotlib.pyplot as plt    #for the plot\n",
    "import math    # giving access to the mathematical functions\n",
    "\n",
    "# Parameters from paper\n",
    "\n",
    "Q = 1.0                 #m3/d\n",
    "V = 3.0                 #volume\n",
    "mumax = 2.0             #specific growth rate\n",
    "Ks = 1.2                #Ks is the half saturation constant\n",
    "Y = 0.8                 #yield factor\n",
    "Xin = 0.0               #biomass concentration\n",
    "\n",
    "#C=Contois #M=Monod\n",
    "\n",
    "\n",
    "\n",
    "CSbar1,Sin = [],[]        #taking value of CSbar1 through range of Sin\n",
    "MSbar1,Sin = [],[]        #taking value of MSbar1 through range of Sin\n",
    "\n",
    "# Input\n",
    "\n",
    "#Sin = [0, 0.5, 1, 1.5, 2]   #graph from paper represented this range"
   ]
  },
  {
   "cell_type": "markdown",
   "id": "bd6fda95",
   "metadata": {},
   "source": [
    "<h4>Through the paper, the solution for during non-wash-out condition is:\n",
    "    \n",
    " Sbar = Sin(Q*Ks*Y/V*µmax+Q*Ks*Y-Q)</h4>\n"
   ]
  },
  {
   "cell_type": "markdown",
   "id": "5d822aaa",
   "metadata": {},
   "source": [
    "# Contois Model"
   ]
  },
  {
   "cell_type": "code",
   "execution_count": 7,
   "id": "38b3bb2d",
   "metadata": {},
   "outputs": [],
   "source": [
    "\n",
    "i=0\n",
    "while round(i,1)<=2:\n",
    "  CSbar1.append(i * (( Q * Ks * Y )/( V * mumax + Q * Ks * Y - Q )))   #equation7\n",
    "  i+=0.01\n",
    "\n",
    "#for i in Sin:\n",
    "  #CSbar1.append(i * (( Q * Ks * Y )/( V * mumax + Q * Ks * Y - Q )))"
   ]
  },
  {
   "cell_type": "markdown",
   "id": "b4331872",
   "metadata": {},
   "source": [
    "<h4>From the paper the condition to avoid wash-out(X > 0) are given by\n",
    "\n",
    "Sin > QKs/(Vµmax-Q) = Sbar</h4>"
   ]
  },
  {
   "cell_type": "markdown",
   "id": "8dc2e377",
   "metadata": {},
   "source": [
    "# Monod Model"
   ]
  },
  {
   "cell_type": "code",
   "execution_count": 8,
   "id": "f91dccf2",
   "metadata": {},
   "outputs": [
    {
     "data": {
      "image/png": "[encoded data removed]",
      "text/plain": [
       "<Figure size 432x288 with 1 Axes>"
      ]
     },
     "metadata": {
      "needs_background": "light"
     },
     "output_type": "display_data"
    },
    {
     "data": {
      "text/plain": [
       "<Figure size 432x288 with 0 Axes>"
      ]
     },
     "metadata": {},
     "output_type": "display_data"
    }
   ],
   "source": [
    "\n",
    "MSbar = ( Q * Ks )/( V * mumax - Q)   #equation 5 from paper\n",
    "\n",
    "i=0\n",
    "while round(i,1)<=2:    #the graph range of paper is till 2\n",
    "  Sin.append(i)   #using append function to add an item to the end of the list\n",
    "  if  MSbar >= i:\n",
    "    MSbar1.append(i)   #taking Sin value if Sbar greater or equal to i\n",
    "  else:\n",
    "    #print(i)\n",
    "    MSbar1.append(MSbar)    #taking Sbar value through formula if Sbar less than i\n",
    "  i+=0.01\n",
    "\n",
    "# Plot\n",
    "\n",
    "plt.plot(Sin,MSbar1,'b')     #for the Monod Graph\n",
    "plt.plot(Sin,CSbar1,\"r\")     #for the Contois graph\n",
    "plt.xlabel(\"$S_{in}$\")      #using subscript for Sin and put in the x axis\n",
    "plt.ylabel(\"$S\\u0305_1$\",rotation=0)     #using subscript for S1bar and put in the  axis\n",
    "plt.legend(['Monod',\n",
    "            'Contois'])       #describing the elements of the graph through legend function\n",
    "plt.show()       #graph showing\n",
    "plt.savefig('1 CSTR.jpg', dpi=300)"
   ]
  },
  {
   "cell_type": "markdown",
   "id": "c5444316",
   "metadata": {},
   "source": [
    "# 2 CSTR"
   ]
  },
  {
   "cell_type": "code",
   "execution_count": 22,
   "id": "c8934860",
   "metadata": {},
   "outputs": [],
   "source": [
    "# Parameters\n",
    "\n",
    "Q = 1.0                 #m3/d\n",
    "V = 3.0                  #volume\n",
    "V1 = V / 2\n",
    "mumax = 2.0              #specific growth rate\n",
    "Ks = 1.2                 #Ks is the half saturation constant            \n",
    "Y = 0.8                  #yield factor\n",
    "Xin = 0.0                #biomass concentration\n",
    "\n"
   ]
  },
  {
   "cell_type": "markdown",
   "id": "09745a66",
   "metadata": {},
   "source": [
    "# Contios Model"
   ]
  },
  {
   "cell_type": "markdown",
   "id": "952bb7af",
   "metadata": {},
   "source": [
    "<h4>From the paper Sbar2 =  (Sin / k7)  * [k1 + k2 + k3 - k4 - k5 - k6 * (µmax * V1 - Q )]</h4>"
   ]
  },
  {
   "cell_type": "code",
   "execution_count": 23,
   "id": "e0234ac7",
   "metadata": {},
   "outputs": [],
   "source": [
    "#to solve equation 13, we need to define k1,k2,k3,k4,k5,k6,k7 equation first\n",
    "\n",
    "k1 = 2 * ( Ks * Q * Y ) ** 2\n",
    "k2 = ( mumax * V1 ) ** 2\n",
    "k3 = 2 * Ks * mumax * Q * V1 * Y\n",
    "k4 = 2 * Ks * ( Q ** 2 ) * Y\n",
    "k5 = mumax * Q * V1\n",
    "k6 = math.sqrt( ( mumax * V1 * ( 2 * ( k1 + k3 - k4 ) + k2 - k5 ) ) / ( (mumax * V1 - Q ) ) )\n",
    "k7 = 2 * ( ( k1 / 2 ) + k2 + k3 - k4 - ( 2 * k5 ) + ( Q ** 2 ) )\n",
    "\n",
    "S = ( Q * Ks )/( V1 * mumax - Q)   #equation 5 from paper"
   ]
  },
  {
   "cell_type": "markdown",
   "id": "066937fc",
   "metadata": {},
   "source": [
    "<h4>Through the paper, the solution for during non-wash-out condition is:\n",
    "  \n",
    " Sbar2 =  (Sin / k7)  * [k1 + k2 + k3 - k4 - k5 - k6 * (µmax * V1 - Q ) </h4>"
   ]
  },
  {
   "cell_type": "code",
   "execution_count": 24,
   "id": "44f560a3",
   "metadata": {},
   "outputs": [],
   "source": [
    "MSbar2,Sin = [],[]   #taking value of MSbar2 through range of Sin\n",
    "CSbar2,Sin = [],[]   #taking value of CSbar2 through range of Sin\n",
    "\n",
    "# Input\n",
    "\n",
    "#SinC2 = [0, 1 , 2 , 3, 4]   #graph from paper represented this range"
   ]
  },
  {
   "cell_type": "code",
   "execution_count": 25,
   "id": "c695a6e1",
   "metadata": {},
   "outputs": [],
   "source": [
    "i=0\n",
    "while round(i,1)<=4:\n",
    "  CSbar2.append( ( i / k7 ) * ( k1 + k2 + k3 - k4 - k5 - ( k6 * ( ( mumax * V1 ) - Q ) ) ) ) #equation 13\n",
    "  i+=0.01\n",
    "\n",
    "#for i in Sin:\n",
    "  #CSbar2.append( ( i / k7 ) * ( k1 + k2 + k3 - k4 - k5 - ( k6 * ( ( mumax * V1 ) - Q ) ) ) )\n"
   ]
  },
  {
   "cell_type": "markdown",
   "id": "105e081f",
   "metadata": {},
   "source": [
    "# Monod Model"
   ]
  },
  {
   "cell_type": "markdown",
   "id": "e4291262",
   "metadata": {},
   "source": [
    "<h4>#taking equation 12 as quadratic formula \n",
    "    \n",
    "# x=(-b+-sqrt(b^2-4ac))/2a\n",
    "\n",
    "(Sbar2) *  * -Sbar2(Vµmax(Sin-Sbar1)+2QKs/Vµmax-Q)+(QKs/Vµmax-Q)  * *  =0</h4>"
   ]
  },
  {
   "cell_type": "code",
   "execution_count": 26,
   "id": "15540e44",
   "metadata": {},
   "outputs": [
    {
     "data": {
      "image/png": "[encoded data removed]",
      "text/plain": [
       "<Figure size 432x288 with 1 Axes>"
      ]
     },
     "metadata": {
      "needs_background": "light"
     },
     "output_type": "display_data"
    },
    {
     "data": {
      "text/plain": [
       "<Figure size 432x288 with 0 Axes>"
      ]
     },
     "metadata": {},
     "output_type": "display_data"
    }
   ],
   "source": [
    "a = 1\n",
    "#b = (( mumax * V * ( i - S ) + 2 * Q * Ks ) ) / ( V1 * mumax - Q)\n",
    "c = ( ( Q * Ks ) / ( V1 * mumax - Q )  ) ** 2\n",
    "#x = ( - b + math.sqrt( (b ** 2) - (4 * a * c ))) / 2 * a\n",
    "\n",
    "i=0\n",
    "while round(i,1)<=4:       #the graph range of paper is till 4\n",
    "  Sin.append(i)         #using append function to add an item to the end of the list\n",
    "  if  S >= i:\n",
    "    MSbar2.append(i)    #taking Sin value if Sbar greater or equal to i\n",
    "  else:\n",
    "    #print(i)\n",
    "    b = (( mumax * V1 * ( i - S ) + 2 * Q * Ks ) ) / ( V1 * mumax - Q)   #taking Sbar value through formula if Sbar\n",
    "#equation 12      \n",
    "    MSbar2.append(abs((- b + math.sqrt( (b ** 2) - (4 * a * c ))) / 2 * a))\n",
    "  i+=0.01\n",
    "  #if round(i,1)==4:\n",
    "    #break\n",
    "    \n",
    "# Plot\n",
    "\n",
    "plt.plot(Sin,MSbar2,'b')    #for the Monod Graph\n",
    "plt.plot(Sin,CSbar2,\"r\")    #for the Contois graph\n",
    "plt.xlabel(\"$S_{in}$\")      #using subscript for Sin and put in the x axis\n",
    "plt.ylabel(\"$S\\u0305_2$\",rotation=0)   #using subscript for S1bar and put in the  axis\n",
    "plt.legend(['Monod',\n",
    "            'Contois'])    #describing the elements of the graph through legend function\n",
    "plt.show()     #graph showing\n",
    "plt.savefig('2 CSTR.jpg', dpi=300)\n"
   ]
  },
  {
   "cell_type": "markdown",
   "id": "a2d051c0",
   "metadata": {},
   "source": [
    "<h3>We have shown (both analytically and by simulation studies) that a bioreactor model\n",
    "can give very different results depending on the bioreactor configuration (one or\n",
    "multiple zones) and on the choice of growth kinetics (Monod or Contois)</h3>"
   ]
  },
  {
   "cell_type": "markdown",
   "id": "c19c4507",
   "metadata": {},
   "source": []
  }
 ],
 "metadata": {
  "kernelspec": {
   "display_name": "Python 3 (ipykernel)",
   "language": "python",
   "name": "python3"
  },
  "language_info": {
   "codemirror_mode": {
    "name": "ipython",
    "version": 3
   },
   "file_extension": ".py",
   "mimetype": "text/x-python",
   "name": "python",
   "nbconvert_exporter": "python",
   "pygments_lexer": "ipython3",
   "version": "3.9.12"
  }
 },
 "nbformat": 4,
 "nbformat_minor": 5
}
